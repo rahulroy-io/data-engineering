{
 "cells": [
  {
   "cell_type": "code",
   "execution_count": null,
   "metadata": {},
   "outputs": [],
   "source": [
    "from pyspark.sql import SparkSession\n",
    "from pyspark.sql import functions as F\n",
    "from pyspark.sql import types as T\n",
    "\n",
    "from random import randint"
   ]
  },
  {
   "cell_type": "code",
   "execution_count": null,
   "metadata": {},
   "outputs": [],
   "source": [
    "spark = SparkSession.builder.appName('UDF').getOrCreate()"
   ]
  },
  {
   "cell_type": "code",
   "execution_count": 6,
   "metadata": {},
   "outputs": [],
   "source": [
    "# function defination\n",
    "def random_integer():\n",
    "    return randint(1, 100)\n"
   ]
  },
  {
   "cell_type": "code",
   "execution_count": 8,
   "metadata": {},
   "outputs": [
    {
     "name": "stdout",
     "output_type": "stream",
     "text": [
      "<class 'int'>\n",
      "<class 'pyspark.sql.column.Column'>\n"
     ]
    },
    {
     "name": "stderr",
     "output_type": "stream",
     "text": [
      "23/04/09 17:40:03 WARN SimpleFunctionRegistry: The function rand_sql replaced a previously registered function.\n"
     ]
    }
   ],
   "source": [
    "# use in dataframe api\n",
    "rand_api = F.udf(random_integer, T.IntegerType())\n",
    "\n",
    "# use in sparksql \n",
    "spark.udf.register('rand_sql', random_integer, T.IntegerType())\n",
    "\n",
    "print (type(random_integer())) # normal python object\n",
    "print (type(rand_api())) # pyspark col object\n"
   ]
  },
  {
   "cell_type": "code",
   "execution_count": 15,
   "metadata": {},
   "outputs": [
    {
     "name": "stdout",
     "output_type": "stream",
     "text": [
      "+---+---+\n",
      "| id| rn|\n",
      "+---+---+\n",
      "|  0|  9|\n",
      "|  1|  9|\n",
      "|  2|  9|\n",
      "|  3|  9|\n",
      "|  4|  9|\n",
      "|  5|  9|\n",
      "|  6|  9|\n",
      "|  7|  9|\n",
      "|  8|  9|\n",
      "|  9|  9|\n",
      "+---+---+\n",
      "only showing top 10 rows\n",
      "\n"
     ]
    }
   ],
   "source": [
    "spark.range(100).withColumn('rn', F.lit(random_integer())).show(10)"
   ]
  },
  {
   "cell_type": "code",
   "execution_count": 16,
   "metadata": {},
   "outputs": [
    {
     "name": "stdout",
     "output_type": "stream",
     "text": [
      "+---+---+\n",
      "| id| rn|\n",
      "+---+---+\n",
      "|  0| 77|\n",
      "|  1|  9|\n",
      "|  2| 69|\n",
      "|  3| 90|\n",
      "|  4|  5|\n",
      "|  5| 34|\n",
      "|  6|100|\n",
      "|  7| 78|\n",
      "|  8| 49|\n",
      "|  9| 28|\n",
      "+---+---+\n",
      "only showing top 10 rows\n",
      "\n"
     ]
    }
   ],
   "source": [
    "spark.range(100).withColumn('rn', rand_api()).show(10)"
   ]
  },
  {
   "cell_type": "code",
   "execution_count": 17,
   "metadata": {},
   "outputs": [],
   "source": [
    "spark.stop()"
   ]
  }
 ],
 "metadata": {
  "kernelspec": {
   "display_name": "Python 3",
   "language": "python",
   "name": "python3"
  },
  "language_info": {
   "codemirror_mode": {
    "name": "ipython",
    "version": 3
   },
   "file_extension": ".py",
   "mimetype": "text/x-python",
   "name": "python",
   "nbconvert_exporter": "python",
   "pygments_lexer": "ipython3",
   "version": "3.10.2"
  },
  "orig_nbformat": 4
 },
 "nbformat": 4,
 "nbformat_minor": 2
}
