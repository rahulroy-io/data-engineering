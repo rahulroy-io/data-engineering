{
 "cells": [
  {
   "cell_type": "code",
   "execution_count": null,
   "metadata": {},
   "outputs": [],
   "source": [
    "from pyspark.sql import SparkSession\n",
    "from pyspark.sql import functions as F\n",
    "from pyspark.sql import types as T"
   ]
  },
  {
   "cell_type": "code",
   "execution_count": null,
   "metadata": {},
   "outputs": [],
   "source": [
    "spark = SparkSession.builder.appName('test_dml').getOrCreate()"
   ]
  },
  {
   "cell_type": "code",
   "execution_count": 62,
   "metadata": {},
   "outputs": [],
   "source": [
    "df_trp = spark.read.format('parquet').load('/home/glue_user/workspace/sparklearning/src_data_pq/tripdata')\n",
    "df_cus = spark.read.format('csv').options(header='true', inferschema='true').load('/home/glue_user/workspace/sparklearning/src_data_csv/Customer.csv')\n",
    "df_ren = spark.read.format('csv').options(header='true', inferschema='true').load('/home/glue_user/workspace/sparklearning/src_data_csv/dvdrental.csv')\n",
    "df_stf = spark.read.format('csv').options(header='true', inferschema='true').load('/home/glue_user/workspace/sparklearning/src_data_csv/Staff.csv')\n"
   ]
  },
  {
   "cell_type": "code",
   "execution_count": null,
   "metadata": {},
   "outputs": [],
   "source": [
    "#selectExpr\n",
    "df_cus.selectExpr(\"*\", \"Company_name nameOfCompany_using_selectExpr\").limit(2).show(truncate=False)\n",
    "df_cus.select(\"*\", F.col('Company_name').alias('nameOfCompany_using_alias')).limit(2).show(truncate=False)\n",
    "df_cus.withColumnRenamed('Company_name', 'nameOfCompany_using_withColumnRenamed').limit(2).show(truncate=False)"
   ]
  },
  {
   "cell_type": "code",
   "execution_count": null,
   "metadata": {},
   "outputs": [],
   "source": [
    "#groupBy\n",
    "df_cus.groupBy('Town').agg(F.avg('Town').alias('zavg'), F.count('Town').alias('cnt')).show()\n",
    "df_cus.groupBy('Town').agg(F.expr(\"count(*) cnt\"), F.expr(\"cast(sum(Company_ref) as integer) sm\")).show()"
   ]
  },
  {
   "cell_type": "code",
   "execution_count": null,
   "metadata": {},
   "outputs": [],
   "source": [
    "#windowFunction\n",
    "df_cus.selectExpr(\"*\", \n",
    "                  \"row_number() over(partition by Town order by Company_ref) as rn\",\n",
    "                  \"count(*) over(partition by Town) cnt\").filter(\"cnt>1\")\\\n",
    "                    .orderBy(F.expr(\"town\"), F.expr(\"rn desc\")).show()"
   ]
  },
  {
   "cell_type": "code",
   "execution_count": null,
   "metadata": {},
   "outputs": [],
   "source": [
    "spark.sql('''\n",
    "select\n",
    "    to_timestamp('1993-08-15T10:30:45.5+05:30') bd\n",
    "''').show(truncate=False)"
   ]
  },
  {
   "cell_type": "code",
   "execution_count": 63,
   "metadata": {},
   "outputs": [
    {
     "name": "stdout",
     "output_type": "stream",
     "text": [
      "root\n",
      " |-- rental_id: integer (nullable = true)\n",
      " |-- rental_date: timestamp (nullable = true)\n",
      " |-- inventory_id: integer (nullable = true)\n",
      " |-- customer_id: integer (nullable = true)\n",
      " |-- return_date: timestamp (nullable = true)\n",
      " |-- staff_id: integer (nullable = true)\n",
      " |-- last_update: timestamp (nullable = true)\n",
      "\n"
     ]
    }
   ],
   "source": [
    "df_ren.printSchema()"
   ]
  },
  {
   "cell_type": "code",
   "execution_count": 64,
   "metadata": {},
   "outputs": [
    {
     "name": "stdout",
     "output_type": "stream",
     "text": [
      "+---------+-------------------+------------+-----------+-------------------+--------+-------------------+-----------+--------+----------+-----------+--------------------+----------+----------+-------------------+--------------------+------+\n",
      "|rental_id|        rental_date|inventory_id|customer_id|        return_date|staff_id|        last_update|customer_id|store_id|first_name|  last_name|               email|address_id|activebool|        create_date|         last_update|active|\n",
      "+---------+-------------------+------------+-----------+-------------------+--------+-------------------+-----------+--------+----------+-----------+--------------------+----------+----------+-------------------+--------------------+------+\n",
      "|        2|2005-05-24 22:54:33|        1525|        459|2005-05-28 19:40:33|       1|2006-02-16 02:30:53|        459|       1|     Tommy|    Collazo|tommy.collazo@sak...|       464|         t|2006-02-14 00:00:00|2013-05-26 14:49:...|     1|\n",
      "|        3|2005-05-24 23:03:39|        1711|        408|2005-06-01 22:12:39|       1|2006-02-16 02:30:53|        408|       1|    Manuel|    Murrell|manuel.murrell@sa...|       413|         t|2006-02-14 00:00:00|2013-05-26 14:49:...|     1|\n",
      "|        4|2005-05-24 23:04:41|        2452|        333|2005-06-03 01:43:41|       2|2006-02-16 02:30:53|        333|       2|    Andrew|      Purdy|andrew.purdy@saki...|       338|         t|2006-02-14 00:00:00|2013-05-26 14:49:...|     1|\n",
      "|        5|2005-05-24 23:05:21|        2079|        222|2005-06-02 04:33:21|       1|2006-02-16 02:30:53|        222|       2|   Delores|     Hansen|delores.hansen@sa...|       226|         t|2006-02-14 00:00:00|2013-05-26 14:49:...|     1|\n",
      "|        6|2005-05-24 23:08:07|        2792|        549|2005-05-27 01:32:07|       1|2006-02-16 02:30:53|        549|       1|    Nelson|Christenson|nelson.christenso...|       555|         t|2006-02-14 00:00:00|2013-05-26 14:49:...|     1|\n",
      "|        7|2005-05-24 23:11:53|        3995|        269|2005-05-29 20:34:53|       2|2006-02-16 02:30:53|        269|       1| Cassandra|    Walters|cassandra.walters...|       274|         t|2006-02-14 00:00:00|2013-05-26 14:49:...|     1|\n",
      "|        8|2005-05-24 23:31:46|        2346|        239|2005-05-27 23:33:46|       2|2006-02-16 02:30:53|        239|       2|    Minnie|     Romero|minnie.romero@sak...|       243|         t|2006-02-14 00:00:00|2013-05-26 14:49:...|     1|\n",
      "|        9|2005-05-25 00:00:40|        2580|        126|2005-05-28 00:22:40|       1|2006-02-16 02:30:53|        126|       1|     Ellen|    Simpson|ellen.simpson@sak...|       130|         t|2006-02-14 00:00:00|2013-05-26 14:49:...|     1|\n",
      "|       10|2005-05-25 00:02:21|        1824|        399|2005-05-31 22:44:21|       2|2006-02-16 02:30:53|        399|       1|     Danny|       Isom|danny.isom@sakila...|       404|         t|2006-02-14 00:00:00|2013-05-26 14:49:...|     1|\n",
      "|       11|2005-05-25 00:09:02|        4443|        142|2005-06-02 20:56:02|       2|2006-02-16 02:30:53|        142|       1|     April|      Burns|april.burns@sakil...|       146|         t|2006-02-14 00:00:00|2013-05-26 14:49:...|     1|\n",
      "|       12|2005-05-25 00:19:27|        1584|        261|2005-05-30 05:44:27|       2|2006-02-16 02:30:53|        261|       1|    Deanna|       Byrd|deanna.byrd@sakil...|       266|         t|2006-02-14 00:00:00|2013-05-26 14:49:...|     1|\n",
      "|       13|2005-05-25 00:22:55|        2294|        334|2005-05-30 04:28:55|       1|2006-02-16 02:30:53|        334|       2|   Raymond|  Mcwhorter|raymond.mcwhorter...|       339|         t|2006-02-14 00:00:00|2013-05-26 14:49:...|     1|\n",
      "|       14|2005-05-25 00:31:15|        2701|        446|2005-05-26 02:56:15|       1|2006-02-16 02:30:53|        446|       2|  Theodore|       Culp|theodore.culp@sak...|       451|         t|2006-02-14 00:00:00|2013-05-26 14:49:...|     0|\n",
      "|       15|2005-05-25 00:39:22|        3049|        319|2005-06-03 03:30:22|       1|2006-02-16 02:30:53|        319|       2|    Ronald|     Weiner|ronald.weiner@sak...|       324|         t|2006-02-14 00:00:00|2013-05-26 14:49:...|     1|\n",
      "|       16|2005-05-25 00:43:11|         389|        316|2005-05-26 04:42:11|       2|2006-02-16 02:30:53|        316|       1|    Steven|     Curley|steven.curley@sak...|       321|         t|2006-02-14 00:00:00|2013-05-26 14:49:...|     1|\n",
      "|       17|2005-05-25 01:06:36|         830|        575|2005-05-27 00:43:36|       1|2006-02-16 02:30:53|        575|       2|     Isaac|    Oglesby|isaac.oglesby@sak...|       581|         t|2006-02-14 00:00:00|2013-05-26 14:49:...|     1|\n",
      "|       18|2005-05-25 01:10:47|        3376|         19|2005-05-31 06:35:47|       2|2006-02-16 02:30:53|         19|       1|      Ruth|   Martinez|ruth.martinez@sak...|        23|         t|2006-02-14 00:00:00|2013-05-26 14:49:...|     1|\n",
      "|       19|2005-05-25 01:17:24|        1941|        456|2005-05-31 06:00:24|       1|2006-02-16 02:30:53|        456|       2|    Ronnie|   Ricketts|ronnie.ricketts@s...|       461|         t|2006-02-14 00:00:00|2013-05-26 14:49:...|     1|\n",
      "|       20|2005-05-25 01:48:41|        3517|        185|2005-05-27 02:20:41|       2|2006-02-16 02:30:53|        185|       1|   Roberta|     Harper|roberta.harper@sa...|       189|         t|2006-02-14 00:00:00|2013-05-26 14:49:...|     1|\n",
      "|       21|2005-05-25 01:59:46|         146|        388|2005-05-26 01:01:46|       2|2006-02-16 02:30:53|        388|       2|     Craig|    Morrell|craig.morrell@sak...|       393|         t|2006-02-14 00:00:00|2013-05-26 14:49:...|     1|\n",
      "+---------+-------------------+------------+-----------+-------------------+--------+-------------------+-----------+--------+----------+-----------+--------------------+----------+----------+-------------------+--------------------+------+\n",
      "only showing top 20 rows\n",
      "\n"
     ]
    }
   ],
   "source": [
    "#join\n",
    "df_ren.createOrReplaceTempView('dvdrental')\n",
    "df_cus.createOrReplaceTempView('customer')\n",
    "df_stf.createOrReplaceTempView('staff')\n",
    "\n",
    "spark.sql('''\n",
    "select\n",
    "    *\n",
    "from\n",
    "    dvdrental\n",
    "join\n",
    "    customer\n",
    "    on dvdrental.customer_id=customer.customer_id\n",
    "''').show()"
   ]
  }
 ],
 "metadata": {
  "kernelspec": {
   "display_name": "Python 3",
   "language": "python",
   "name": "python3"
  },
  "language_info": {
   "codemirror_mode": {
    "name": "ipython",
    "version": 3
   },
   "file_extension": ".py",
   "mimetype": "text/x-python",
   "name": "python",
   "nbconvert_exporter": "python",
   "pygments_lexer": "ipython3",
   "version": "3.10.2"
  }
 },
 "nbformat": 4,
 "nbformat_minor": 2
}
