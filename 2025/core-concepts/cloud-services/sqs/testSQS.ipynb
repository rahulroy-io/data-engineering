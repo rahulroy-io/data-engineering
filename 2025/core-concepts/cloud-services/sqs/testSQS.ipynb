{
 "cells": [
  {
   "cell_type": "code",
   "execution_count": 1,
   "metadata": {},
   "outputs": [],
   "source": [
    "import boto3"
   ]
  },
  {
   "cell_type": "code",
   "execution_count": 17,
   "metadata": {},
   "outputs": [
    {
     "name": "stdout",
     "output_type": "stream",
     "text": [
      "{'UserId': 'AIDAT76DLVOVMHHZEIHLI', 'Account': '274750745514', 'Arn': 'arn:aws:iam::274750745514:user/rahulroy', 'ResponseMetadata': {'RequestId': 'a7390cd4-5ad8-4f7d-9d82-b44b166b217f', 'HTTPStatusCode': 200, 'HTTPHeaders': {'x-amzn-requestid': 'a7390cd4-5ad8-4f7d-9d82-b44b166b217f', 'content-type': 'text/xml', 'content-length': '405', 'date': 'Sun, 07 May 2023 10:18:20 GMT'}, 'RetryAttempts': 0}}\n"
     ]
    }
   ],
   "source": [
    "session = boto3.Session()\n",
    "sts_client = boto3.client('sts')\n",
    "print (sts_client.get_caller_identity())"
   ]
  },
  {
   "cell_type": "code",
   "execution_count": 18,
   "metadata": {},
   "outputs": [],
   "source": [
    "sqs_client = session.client('sqs')"
   ]
  },
  {
   "cell_type": "code",
   "execution_count": 19,
   "metadata": {},
   "outputs": [
    {
     "data": {
      "text/plain": [
       "['_PY_TO_OP_NAME',\n",
       " '__class__',\n",
       " '__delattr__',\n",
       " '__dict__',\n",
       " '__dir__',\n",
       " '__doc__',\n",
       " '__eq__',\n",
       " '__format__',\n",
       " '__ge__',\n",
       " '__getattr__',\n",
       " '__getattribute__',\n",
       " '__gt__',\n",
       " '__hash__',\n",
       " '__init__',\n",
       " '__init_subclass__',\n",
       " '__le__',\n",
       " '__lt__',\n",
       " '__module__',\n",
       " '__ne__',\n",
       " '__new__',\n",
       " '__reduce__',\n",
       " '__reduce_ex__',\n",
       " '__repr__',\n",
       " '__setattr__',\n",
       " '__sizeof__',\n",
       " '__str__',\n",
       " '__subclasshook__',\n",
       " '__weakref__',\n",
       " '_cache',\n",
       " '_client_config',\n",
       " '_convert_to_request_dict',\n",
       " '_emit_api_params',\n",
       " '_endpoint',\n",
       " '_exceptions',\n",
       " '_exceptions_factory',\n",
       " '_get_waiter_config',\n",
       " '_load_exceptions',\n",
       " '_loader',\n",
       " '_make_api_call',\n",
       " '_make_request',\n",
       " '_register_handlers',\n",
       " '_request_signer',\n",
       " '_resolve_endpoint_ruleset',\n",
       " '_response_parser',\n",
       " '_ruleset_resolver',\n",
       " '_serializer',\n",
       " '_service_model',\n",
       " 'add_permission',\n",
       " 'can_paginate',\n",
       " 'change_message_visibility',\n",
       " 'change_message_visibility_batch',\n",
       " 'close',\n",
       " 'create_queue',\n",
       " 'delete_message',\n",
       " 'delete_message_batch',\n",
       " 'delete_queue',\n",
       " 'exceptions',\n",
       " 'generate_presigned_url',\n",
       " 'get_paginator',\n",
       " 'get_queue_attributes',\n",
       " 'get_queue_url',\n",
       " 'get_waiter',\n",
       " 'list_dead_letter_source_queues',\n",
       " 'list_queue_tags',\n",
       " 'list_queues',\n",
       " 'meta',\n",
       " 'purge_queue',\n",
       " 'receive_message',\n",
       " 'remove_permission',\n",
       " 'send_message',\n",
       " 'send_message_batch',\n",
       " 'set_queue_attributes',\n",
       " 'tag_queue',\n",
       " 'untag_queue',\n",
       " 'waiter_names']"
      ]
     },
     "execution_count": 19,
     "metadata": {},
     "output_type": "execute_result"
    }
   ],
   "source": [
    "dir(sqs_client)"
   ]
  },
  {
   "cell_type": "code",
   "execution_count": 20,
   "metadata": {},
   "outputs": [
    {
     "data": {
      "text/plain": [
       "{'QueueUrls': ['https://sqs.us-east-2.amazonaws.com/274750745514/testqueue'],\n",
       " 'ResponseMetadata': {'RequestId': '44849a05-bb06-5cc0-bd38-c6d4c5b0cd6d',\n",
       "  'HTTPStatusCode': 200,\n",
       "  'HTTPHeaders': {'x-amzn-requestid': '44849a05-bb06-5cc0-bd38-c6d4c5b0cd6d',\n",
       "   'date': 'Sun, 07 May 2023 10:24:54 GMT',\n",
       "   'content-type': 'text/xml',\n",
       "   'content-length': '325'},\n",
       "  'RetryAttempts': 0}}"
      ]
     },
     "execution_count": 20,
     "metadata": {},
     "output_type": "execute_result"
    }
   ],
   "source": [
    "sqs_client.list_queues()"
   ]
  },
  {
   "cell_type": "code",
   "execution_count": 23,
   "metadata": {},
   "outputs": [],
   "source": [
    "queue_url = 'https://sqs.us-east-2.amazonaws.com/274750745514/testqueue'"
   ]
  },
  {
   "cell_type": "code",
   "execution_count": 64,
   "metadata": {},
   "outputs": [],
   "source": [
    "for i in range(100):\n",
    "    res = sqs_client.send_message(QueueUrl=queue_url, MessageBody=str(i))"
   ]
  },
  {
   "cell_type": "code",
   "execution_count": 35,
   "metadata": {},
   "outputs": [
    {
     "data": {
      "text/plain": [
       "{'MD5OfMessageBody': 'ac627ab1ccbdb62ec96e702f07f6425b',\n",
       " 'MessageId': '2effd14f-1716-49e7-a81c-50dce3960a9e',\n",
       " 'ResponseMetadata': {'RequestId': '734b46f2-6f13-5891-8bcf-1a23ebe229c2',\n",
       "  'HTTPStatusCode': 200,\n",
       "  'HTTPHeaders': {'x-amzn-requestid': '734b46f2-6f13-5891-8bcf-1a23ebe229c2',\n",
       "   'date': 'Sun, 07 May 2023 10:51:29 GMT',\n",
       "   'content-type': 'text/xml',\n",
       "   'content-length': '378'},\n",
       "  'RetryAttempts': 0}}"
      ]
     },
     "execution_count": 35,
     "metadata": {},
     "output_type": "execute_result"
    }
   ],
   "source": [
    "res"
   ]
  },
  {
   "cell_type": "code",
   "execution_count": 78,
   "metadata": {},
   "outputs": [],
   "source": [
    "res_rec = sqs_client.receive_message(\n",
    "    QueueUrl=queue_url,\n",
    "    MaxNumberOfMessages=1,\n",
    "    WaitTimeSeconds=1\n",
    ")"
   ]
  },
  {
   "cell_type": "code",
   "execution_count": 62,
   "metadata": {},
   "outputs": [],
   "source": [
    "receipt_handle = res_rec['Messages'][0]['ReceiptHandle']"
   ]
  },
  {
   "cell_type": "code",
   "execution_count": 63,
   "metadata": {},
   "outputs": [],
   "source": [
    "response = sqs_client.change_message_visibility(\n",
    "    QueueUrl=queue_url,\n",
    "    ReceiptHandle=receipt_handle,\n",
    "    VisibilityTimeout=10\n",
    ")"
   ]
  },
  {
   "cell_type": "code",
   "execution_count": 79,
   "metadata": {},
   "outputs": [
    {
     "data": {
      "text/plain": [
       "{'Attributes': {'QueueArn': 'arn:aws:sqs:us-east-2:274750745514:testqueue',\n",
       "  'ApproximateNumberOfMessages': '197',\n",
       "  'ApproximateNumberOfMessagesNotVisible': '6',\n",
       "  'ApproximateNumberOfMessagesDelayed': '0',\n",
       "  'CreatedTimestamp': '1683444944',\n",
       "  'LastModifiedTimestamp': '1683455760',\n",
       "  'VisibilityTimeout': '120',\n",
       "  'MaximumMessageSize': '262144',\n",
       "  'MessageRetentionPeriod': '3600',\n",
       "  'DelaySeconds': '0',\n",
       "  'Policy': '{\"Version\":\"2012-10-17\",\"Id\":\"__default_policy_ID\",\"Statement\":[{\"Sid\":\"__owner_statement\",\"Effect\":\"Allow\",\"Principal\":{\"AWS\":\"arn:aws:iam::274750745514:root\"},\"Action\":\"SQS:*\",\"Resource\":\"arn:aws:sqs:us-east-2:274750745514:testqueue\"}]}',\n",
       "  'ReceiveMessageWaitTimeSeconds': '0',\n",
       "  'SqsManagedSseEnabled': 'true'},\n",
       " 'ResponseMetadata': {'RequestId': '5c445831-de0c-54b3-acaf-04e057cb5a23',\n",
       "  'HTTPStatusCode': 200,\n",
       "  'HTTPHeaders': {'x-amzn-requestid': '5c445831-de0c-54b3-acaf-04e057cb5a23',\n",
       "   'date': 'Sun, 07 May 2023 11:12:07 GMT',\n",
       "   'content-type': 'text/xml',\n",
       "   'content-length': '1694'},\n",
       "  'RetryAttempts': 0}}"
      ]
     },
     "execution_count": 79,
     "metadata": {},
     "output_type": "execute_result"
    }
   ],
   "source": [
    "sqs_client.get_queue_attributes(QueueUrl=queue_url, AttributeNames=['All'])"
   ]
  }
 ],
 "metadata": {
  "kernelspec": {
   "display_name": "Python 3",
   "language": "python",
   "name": "python3"
  },
  "language_info": {
   "codemirror_mode": {
    "name": "ipython",
    "version": 3
   },
   "file_extension": ".py",
   "mimetype": "text/x-python",
   "name": "python",
   "nbconvert_exporter": "python",
   "pygments_lexer": "ipython3",
   "version": "3.10.6"
  },
  "orig_nbformat": 4
 },
 "nbformat": 4,
 "nbformat_minor": 2
}
