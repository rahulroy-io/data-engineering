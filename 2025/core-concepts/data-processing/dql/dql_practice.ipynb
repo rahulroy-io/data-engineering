{
 "cells": [
  {
   "cell_type": "code",
   "execution_count": null,
   "metadata": {},
   "outputs": [],
   "source": [
    "from pyspark.sql import SparkSession\n",
    "from pyspark.sql import functions as F\n",
    "from pyspark.sql import types as T"
   ]
  },
  {
   "cell_type": "code",
   "execution_count": null,
   "metadata": {},
   "outputs": [],
   "source": [
    "spark = SparkSession.builder.appName('prac').getOrCreate()"
   ]
  },
  {
   "cell_type": "code",
   "execution_count": null,
   "metadata": {},
   "outputs": [],
   "source": [
    "df = spark.range(100)\\\n",
    "    .withColumn('rndn', F.expr(\"cast(randn()*10 as integer)\"))\\\n",
    "    .withColumn('dt', F.expr(\"add_months(to_date('2024-01-01'), rndn)\"))\\\n",
    "    .withColumn('dt', F.expr(\"case when id in (0, 10, 75) then Null else dt end\"))\n",
    "df.show(10)"
   ]
  },
  {
   "cell_type": "code",
   "execution_count": null,
   "metadata": {},
   "outputs": [],
   "source": [
    "df.select('id', F.expr(\"dt\")).distinct().show()"
   ]
  },
  {
   "cell_type": "code",
   "execution_count": 15,
   "metadata": {},
   "outputs": [
    {
     "name": "stdout",
     "output_type": "stream",
     "text": [
      "+----------+---+------+----------+\n",
      "|        dt|cnt|cnt_dt|     mx_dt|\n",
      "+----------+---+------+----------+\n",
      "|2023-01-01|  2|     2|2023-01-01|\n",
      "|      null|  3|     0|      null|\n",
      "|2023-07-01|  6|     6|2023-07-01|\n",
      "|2023-06-01|  2|     2|2023-06-01|\n",
      "|2024-08-01|  4|     4|2024-08-01|\n",
      "|2022-12-01|  2|     2|2022-12-01|\n",
      "|2024-06-01|  8|     8|2024-06-01|\n",
      "|2023-09-01|  3|     3|2023-09-01|\n",
      "|2024-07-01|  4|     4|2024-07-01|\n",
      "|2023-11-01|  8|     8|2023-11-01|\n",
      "|2024-01-01|  7|     7|2024-01-01|\n",
      "|2023-08-01|  3|     3|2023-08-01|\n",
      "|2022-11-01|  3|     3|2022-11-01|\n",
      "|2024-04-01|  6|     6|2024-04-01|\n",
      "|2023-05-01|  3|     3|2023-05-01|\n",
      "|2024-02-01|  6|     6|2024-02-01|\n",
      "|2024-03-01|  4|     4|2024-03-01|\n",
      "|2023-10-01|  1|     1|2023-10-01|\n",
      "|2022-05-01|  2|     2|2022-05-01|\n",
      "|2024-09-01|  1|     1|2024-09-01|\n",
      "+----------+---+------+----------+\n",
      "only showing top 20 rows\n",
      "\n"
     ]
    },
    {
     "name": "stderr",
     "output_type": "stream",
     "text": [
      "24/02/07 10:27:27 WARN HeartbeatReceiver: Removing executor driver with no recent heartbeats: 6985136 ms exceeds timeout 120000 ms\n",
      "24/02/07 11:25:39 WARN SparkContext: Killing executors is not supported by current scheduler.\n"
     ]
    }
   ],
   "source": [
    "df.groupBy('dt')\\\n",
    "    .agg(F.expr(\"count(*) as cnt\"),\n",
    "         F.expr(\"count(dt) as cnt_dt\"),\n",
    "         F.expr(\"max(dt) mx_dt\")).show()"
   ]
  }
 ],
 "metadata": {
  "kernelspec": {
   "display_name": "Python 3",
   "language": "python",
   "name": "python3"
  },
  "language_info": {
   "codemirror_mode": {
    "name": "ipython",
    "version": 3
   },
   "file_extension": ".py",
   "mimetype": "text/x-python",
   "name": "python",
   "nbconvert_exporter": "python",
   "pygments_lexer": "ipython3",
   "version": "3.10.2"
  }
 },
 "nbformat": 4,
 "nbformat_minor": 2
}
