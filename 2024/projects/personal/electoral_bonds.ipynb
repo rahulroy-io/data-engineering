{
 "cells": [
  {
   "cell_type": "code",
   "execution_count": null,
   "metadata": {},
   "outputs": [],
   "source": [
    "from pyspark.sql import SparkSession\n",
    "from pyspark.sql import functions as F\n",
    "from pyspark.sql import types as T\n",
    "from pyspark import SparkConf\n",
    "\n",
    "conf = SparkConf().setAppName(\"dmltest\")\n",
    "conf.set('spark.jars.packages', 'io.delta:delta-core_2.12:2.1.0')\n",
    "conf.set(\"spark.sql.extensions\", \"io.delta.sql.DeltaSparkSessionExtension\")\n",
    "conf.set(\"spark.sql.catalog.spark_catalog\", \"org.apache.spark.sql.delta.catalog.DeltaCatalog\")\n",
    "conf.set(\"spark.delta.logStore.class\", \"org.apache.spark.sql.delta.storage.S3SingleDriverLogStore\")"
   ]
  },
  {
   "cell_type": "code",
   "execution_count": null,
   "metadata": {},
   "outputs": [],
   "source": [
    "spark = SparkSession.builder.config(conf=conf).getOrCreate()"
   ]
  },
  {
   "cell_type": "code",
   "execution_count": null,
   "metadata": {},
   "outputs": [],
   "source": [
    "schema_redemer = T.StructType([T.StructField(nm, T.StringType(), True) for nm in ['Sr_No', 'Date_of_Encashment', 'Name_of_the_Political_Party', 'Account_no._of_Political_Party', 'Prefix', 'Bond_Number', 'redemer_Denominations', 'Pay_Branch_Code', 'Pay_Teller'] ])\n",
    "schema_purchaser = T.StructType([T.StructField(nm, T.StringType(), True) for nm in ['Sr_No', 'Reference_No_(URN)', 'Journal_Date', 'Date_of_Purchase', 'Date_of_Expiry', 'Name_of_the_Purchaser', 'Prefix', 'Bond_Number', 'purchaser_Denominations', 'Issue_Branch_Code', 'Issue_Teller', 'Status'] ])\n",
    "df_redemer = spark.read.format('csv').schema(schema_redemer).load('/home/glue_user/workspace/data-engineering/data/source/src-data-csv/electoral-bonds/bond_redemer_details.csv').filter(\"Pay_Teller is not null\")\n",
    "df_purchaser = spark.read.format('csv').schema(schema_purchaser).load('/home/glue_user/workspace/data-engineering/data/source/src-data-csv/electoral-bonds/bond_purchaser_details.csv').filter(\"purchaser_Denominations is not null\")"
   ]
  },
  {
   "cell_type": "code",
   "execution_count": null,
   "metadata": {},
   "outputs": [],
   "source": [
    "df_redemer = df_redemer.withColumn('redemer_Denominations', F.expr(\"cast(replace(redemer_Denominations, ',', '') as decimal(38, 0))\"))\n",
    "df_purchaser = df_purchaser.withColumn('purchaser_Denominations', F.expr(\"cast(replace(purchaser_Denominations, ',', '') as decimal(38, 0))\"))\n",
    "df_redemer.createOrReplaceTempView('redemer')\n",
    "df_purchaser.createOrReplaceTempView('purchaser')"
   ]
  },
  {
   "cell_type": "code",
   "execution_count": null,
   "metadata": {},
   "outputs": [],
   "source": [
    "spark.sql('''\n",
    "with\n",
    "data as (\n",
    "    select\n",
    "        *\n",
    "    from\n",
    "        purchaser\n",
    "        left join redemer on redemer.prefix=purchaser.prefix and redemer.bond_number=purchaser.Bond_Number\n",
    ")\n",
    "select * from data\n",
    "''').filter(\"Name_of_the_Political_Party='ALL INDIA TRINAMOOL CONGRESS' and Name_of_the_Political_Party is not null\")\\\n",
    "    .groupBy('Name_of_the_Purchaser').agg(F.sum(F.expr(\"cast(purchaser_Denominations as decimal(38,0))\")).alias('total_donations'), F.first(F.col('Name_of_the_Political_Party')).alias('Name_of_the_Political_Party'))\\\n",
    "    .orderBy(F.col('total_donations').desc())\\\n",
    "    .withColumn(\"total_received\", F.expr(\"sum(total_donations) over(partition by Name_of_the_Political_Party)\"))\\\n",
    "    .show(truncate=False, n=900)"
   ]
  },
  {
   "cell_type": "code",
   "execution_count": null,
   "metadata": {},
   "outputs": [],
   "source": [
    "df = df_purchaser.join(df_redemer, (df_purchaser['Bond_Number']==df_redemer['Bond_Number']) & (df_purchaser['Prefix']==df_redemer['Prefix']), 'left')"
   ]
  },
  {
   "cell_type": "code",
   "execution_count": null,
   "metadata": {},
   "outputs": [],
   "source": [
    "df.groupBy('Name_of_the_Political_Party').agg(F.expr(\"sum(redemer_Denominations)\").alias(\"total_purchased\")).orderBy(F.expr(\"total_purchased\").desc()).show(n=100, truncate=False)"
   ]
  }
 ],
 "metadata": {
  "kernelspec": {
   "display_name": "Python 3",
   "language": "python",
   "name": "python3"
  },
  "language_info": {
   "codemirror_mode": {
    "name": "ipython",
    "version": 3
   },
   "file_extension": ".py",
   "mimetype": "text/x-python",
   "name": "python",
   "nbconvert_exporter": "python",
   "pygments_lexer": "ipython3",
   "version": "3.10.2"
  }
 },
 "nbformat": 4,
 "nbformat_minor": 2
}
