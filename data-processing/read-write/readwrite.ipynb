{
 "cells": [
  {
   "cell_type": "markdown",
   "metadata": {},
   "source": [
    "##### Spark SQL Data Sources\n",
    "- [Official Spark SQL Data Sources Documentation](https://spark.apache.org/docs/latest/sql-data-sources.html)\n",
    "- [Demystifying the Parquet File Format](https://towardsdatascience.com/demystifying-the-parquet-file-format-13adb0206705)\n",
    "- [What's the Buzz About Parquet File Format](https://medium.com/analytics-vidhya/whats-the-buzz-about-parquet-file-format-8a1fe4f65de)\n",
    "\n",
    "##### Delimited File\n",
    "- Creating Dataframe from List and Dictionary\n",
    "- Reading CSV and Separator-Separated Files\n",
    "- Understanding Escape Character, Quote Character, Escape Sequence, Separator\n",
    "- Passing Custom Schema\n",
    "- Available Options while Reading CSV\n",
    "- Options Variation Across Different Sources\n",
    "- How to Pass and Choose Options\n",
    "\n",
    "##### Databases\n",
    "- Reading from JDBC\n",
    "- Passing Queries in JDBC\n",
    "- Specifying Database Name, Schema, Table Name in JDBC\n",
    "- Commonly Used Options in JDBC\n",
    "- Understanding `dbtable` and `query` Parameters in JDBC\n",
    "\n",
    "##### Parquet File\n",
    "- Introduction to Parquet File Format\n",
    "- Reading Parquet Files\n",
    "- Differences from Other Formats\n",
    "- Why Parquet File is a Default Choice\n",
    "- Compression and Encoding Techniques in Parquet\n",
    "\n",
    "##### JSON File\n",
    "- Reading JSON Files\n",
    "- Handling Multiline JSON and its Relevance in Saving\n",
    "\n",
    "##### SaveAsTable vs. df.write\n",
    "- Difference Between `saveAsTable` and `df.write`\n",
    "- Available Writing Modes in `df.write`\n"
   ]
  },
  {
   "cell_type": "code",
   "execution_count": 1,
   "metadata": {},
   "outputs": [],
   "source": [
    "from pyspark.sql import SparkSession\n",
    "from pyspark.sql import functions as F\n",
    "from pyspark.sql import types as T\n",
    "from pyspark.conf import SparkConf"
   ]
  },
  {
   "cell_type": "code",
   "execution_count": 2,
   "metadata": {},
   "outputs": [
    {
     "name": "stderr",
     "output_type": "stream",
     "text": [
      "SLF4J: Class path contains multiple SLF4J bindings.\n",
      "SLF4J: Found binding in [jar:file:/home/glue_user/spark/jars/log4j-slf4j-impl-2.17.2.jar!/org/slf4j/impl/StaticLoggerBinder.class]\n",
      "SLF4J: Found binding in [jar:file:/home/glue_user/spark/jars/slf4j-reload4j-1.7.36.jar!/org/slf4j/impl/StaticLoggerBinder.class]\n",
      "SLF4J: Found binding in [jar:file:/home/glue_user/aws-glue-libs/jars/log4j-slf4j-impl-2.17.2.jar!/org/slf4j/impl/StaticLoggerBinder.class]\n",
      "SLF4J: Found binding in [jar:file:/home/glue_user/aws-glue-libs/jars/slf4j-reload4j-1.7.36.jar!/org/slf4j/impl/StaticLoggerBinder.class]\n",
      "SLF4J: See http://www.slf4j.org/codes.html#multiple_bindings for an explanation.\n",
      "SLF4J: Actual binding is of type [org.apache.logging.slf4j.Log4jLoggerFactory]\n",
      "Setting default log level to \"WARN\".\n",
      "To adjust logging level use sc.setLogLevel(newLevel). For SparkR, use setLogLevel(newLevel).\n"
     ]
    }
   ],
   "source": [
    "spark_conf = SparkConf()\n",
    "spark_conf.setAppName('readwrite')\n",
    "#spark_conf.set(\"spark.sql.warehouse.dir\", \"/home/glue_user/workspace/data-engineering/data-processing/read-write/data/wh\")\n",
    "\n",
    "spark = SparkSession.builder.config(conf=spark_conf).getOrCreate()"
   ]
  },
  {
   "cell_type": "code",
   "execution_count": 3,
   "metadata": {},
   "outputs": [],
   "source": [
    "df = spark.range(1000).repartition(1)"
   ]
  },
  {
   "cell_type": "code",
   "execution_count": 23,
   "metadata": {},
   "outputs": [
    {
     "name": "stderr",
     "output_type": "stream",
     "text": [
      "                                                                                \r"
     ]
    }
   ],
   "source": [
    "#df.write.format('csv').mode('overwrite').save('/home/glue_user/workspace/data-engineering/data-processing/read-write/data/csv-data')\n",
    "# managed table -> default data format is parquet and defaault path -> spark.sql.warehouse.dir is used\n",
    "# df.write.mode('overwrite').saveAsTable('default.tabledata')\n",
    "# un-managed table -> format is csv\n",
    "spark.range(1000).write.format('parquet').mode('overwrite').options(path='data-processing/read-write/data/sat/').saveAsTable('csvdata')\n",
    "#spark.range(10).write.format('parquet').mode('overwrite').options(path='data-processing/read-write/data/sat/').saveAsTable('tabledata')"
   ]
  },
  {
   "cell_type": "code",
   "execution_count": 24,
   "metadata": {},
   "outputs": [
    {
     "name": "stdout",
     "output_type": "stream",
     "text": [
      "+---+\n",
      "| id|\n",
      "+---+\n",
      "+---+\n",
      "\n"
     ]
    }
   ],
   "source": [
    "spark.sql('''\n",
    "select * from csvdata''').show()"
   ]
  },
  {
   "cell_type": "code",
   "execution_count": null,
   "metadata": {},
   "outputs": [],
   "source": [
    "spark.sql(\"DESCRIBE EXTENDED tabledatas\").show(truncate=False)\n"
   ]
  }
 ],
 "metadata": {
  "kernelspec": {
   "display_name": "Python 3",
   "language": "python",
   "name": "python3"
  },
  "language_info": {
   "codemirror_mode": {
    "name": "ipython",
    "version": 3
   },
   "file_extension": ".py",
   "mimetype": "text/x-python",
   "name": "python",
   "nbconvert_exporter": "python",
   "pygments_lexer": "ipython3",
   "version": "3.10.2"
  }
 },
 "nbformat": 4,
 "nbformat_minor": 2
}
