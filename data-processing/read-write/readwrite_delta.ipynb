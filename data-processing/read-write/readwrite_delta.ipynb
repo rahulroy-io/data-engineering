{
 "cells": [
  {
   "cell_type": "code",
   "execution_count": null,
   "metadata": {},
   "outputs": [],
   "source": [
    "from pyspark.sql import SparkSession\n",
    "from pyspark.sql import functions as F\n",
    "from pyspark.sql import types as T\n",
    "from pyspark.conf import SparkConf"
   ]
  },
  {
   "cell_type": "code",
   "execution_count": null,
   "metadata": {},
   "outputs": [],
   "source": [
    "spark_conf = SparkConf()\n",
    "spark_conf.setAppName('readwrite')\n",
    "#spark_conf.set(\"spark.sql.warehouse.dir\", \"/home/glue_user/workspace/data-engineering/data-processing/read-write/data/wh\")\n",
    "\n",
    "spark = SparkSession.builder.config(conf=spark_conf).getOrCreate()"
   ]
  },
  {
   "cell_type": "code",
   "execution_count": null,
   "metadata": {},
   "outputs": [],
   "source": [
    "#spark.range(100).write.format('parquet').save('/home/glue_user/workspace/data-engineering/data/target/output/test/')\n",
    "spark.range(1000).write.format('parquet').mode('overwrite').save('/home/glue_user/workspace/data-engineering/data/target/output/test/')\n",
    "spark.range(10000).write.format('parquet').mode('append').save('/home/glue_user/workspace/data-engineering/data/target/output/test/')"
   ]
  },
  {
   "cell_type": "code",
   "execution_count": 20,
   "metadata": {},
   "outputs": [
    {
     "name": "stderr",
     "output_type": "stream",
     "text": [
      "                                                                                \r"
     ]
    },
    {
     "name": "stdout",
     "output_type": "stream",
     "text": [
      "+--------+\n",
      "|count(1)|\n",
      "+--------+\n",
      "|100100  |\n",
      "+--------+\n",
      "\n"
     ]
    }
   ],
   "source": [
    "# managed table -> default data format is parquet and defaault path -> spark.sql.warehouse.dir is used\n",
    "#spark.range(100000).write.saveAsTable('onprem.test_data_mgd')\n",
    "spark.range(100).write.mode('append').saveAsTable('onprem.test_data_mgd')\n",
    "spark.sql('select count(*) from onprem.test_data_mgd').show(truncate=False)"
   ]
  },
  {
   "cell_type": "code",
   "execution_count": 22,
   "metadata": {},
   "outputs": [
    {
     "name": "stderr",
     "output_type": "stream",
     "text": [
      "24/03/05 19:30:20 WARN MetricsConfig: Cannot locate configuration: tried hadoop-metrics2-s3a-file-system.properties,hadoop-metrics2.properties\n",
      "[Stage 31:==============================================>           (4 + 1) / 5]\r"
     ]
    },
    {
     "name": "stdout",
     "output_type": "stream",
     "text": [
      "+--------+\n",
      "|count(1)|\n",
      "+--------+\n",
      "|100100  |\n",
      "+--------+\n",
      "\n"
     ]
    },
    {
     "name": "stderr",
     "output_type": "stream",
     "text": [
      "                                                                                \r"
     ]
    }
   ],
   "source": [
    "# managed table -> default data format is parquet and defaault path -> spark.sql.warehouse.dir is used\n",
    "spark.range(100000).write.saveAsTable('cloud.test_data_mgd')\n",
    "spark.range(100).write.mode('append').saveAsTable('cloud.test_data_mgd')\n",
    "spark.sql('select count(*) from cloud.test_data_mgd').show(truncate=False)"
   ]
  },
  {
   "cell_type": "code",
   "execution_count": null,
   "metadata": {},
   "outputs": [],
   "source": [
    "# un-managed table -> format is csv\n",
    "#spark.range(100000).write.format('csv').options(path='/home/glue_user/workspace/data-engineering/data/target/tgt-save-as-table-unmgd/test_data_unmgd').saveAsTable('onprem.test_data_unmgd')\n",
    "spark.range(100).write.format('csv').mode('append').options(path='/home/glue_user/workspace/data-engineering/data/target/tgt-save-as-table-unmgd/test_data_unmgd').saveAsTable('onprem.test_data_unmgd')\n",
    "spark.sql('select count(*) from onprem.test_data_unmgd').show(truncate=False)"
   ]
  },
  {
   "cell_type": "code",
   "execution_count": null,
   "metadata": {},
   "outputs": [],
   "source": [
    "spark.sql(\"DESCRIBE EXTENDED tabledatas\").show(truncate=False)\n"
   ]
  }
 ],
 "metadata": {
  "kernelspec": {
   "display_name": "Python 3",
   "language": "python",
   "name": "python3"
  },
  "language_info": {
   "codemirror_mode": {
    "name": "ipython",
    "version": 3
   },
   "file_extension": ".py",
   "mimetype": "text/x-python",
   "name": "python",
   "nbconvert_exporter": "python",
   "pygments_lexer": "ipython3",
   "version": "3.10.2"
  }
 },
 "nbformat": 4,
 "nbformat_minor": 2
}
