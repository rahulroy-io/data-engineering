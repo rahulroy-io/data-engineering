{
 "cells": [
  {
   "cell_type": "raw",
   "metadata": {
    "vscode": {
     "languageId": "raw"
    }
   },
   "source": [
    "How to control the number of connections while fetching data from difference sources ?"
   ]
  },
  {
   "cell_type": "code",
   "execution_count": null,
   "metadata": {},
   "outputs": [],
   "source": [
    "#JDBC -> https://spark.apache.org/docs/latest/sql-data-sources-jdbc.html\n",
    "\n",
    "from pyspark.sql import SparkSession\n",
    "\n",
    "spark = SparkSession.builder.getOrCreate()\n",
    "\n",
    "jdbc_options = {\n",
    "    \"url\": \"jdbc:postgresql:dbserver\",\n",
    "    \"dbtable\": \"(SELECT *, (random() * 4)::int AS bucket_id FROM schema.tablename) AS subquery\",\n",
    "    \"user\": \"username\",\n",
    "    \"password\": \"password\",\n",
    "    \"numPartitions\": 4, #using this we can control also during write 4 files are written\n",
    "    \"partitionColumn\": \"bucket_id\",\n",
    "    \"lowerBound\": 0,\n",
    "    \"upperBound\": 3,\n",
    "}\n",
    "\n",
    "jdbcDF = spark.read.format(\"jdbc\").options(**jdbc_options).load()\n",
    "\n",
    "# Use the jdbcDF as needed\n",
    "jdbcDF.show()  # Example usage"
   ]
  }
 ],
 "metadata": {
  "language_info": {
   "name": "python"
  }
 },
 "nbformat": 4,
 "nbformat_minor": 2
}
