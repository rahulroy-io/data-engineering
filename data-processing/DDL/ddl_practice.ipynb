{
 "cells": [
  {
   "cell_type": "code",
   "execution_count": 52,
   "metadata": {},
   "outputs": [],
   "source": [
    "from pyspark.sql import SparkSession\n",
    "from pyspark.sql import types as T\n",
    "from pyspark.sql import functions as F"
   ]
  },
  {
   "cell_type": "code",
   "execution_count": 53,
   "metadata": {},
   "outputs": [],
   "source": [
    "spark = SparkSession.builder.appName('prac').getOrCreate()"
   ]
  },
  {
   "cell_type": "code",
   "execution_count": 61,
   "metadata": {},
   "outputs": [],
   "source": [
    "schema = T.StructType([\n",
    "    T.StructField('id', T.IntegerType(), False),\n",
    "    T.StructField('name', T.StringType(), False)\n",
    "    ])\n",
    "data = [\n",
    "    [1, 'Rahul Roy'],\n",
    "    [2, 'Setu Ghosh'],\n",
    "    [3, 'Sankadeep Ghosh'],\n",
    "    [4, 'Rahul Roy']\n",
    "]\n",
    "\n",
    "df = spark.createDataFrame(data=data, schema=schema)"
   ]
  },
  {
   "cell_type": "code",
   "execution_count": 65,
   "metadata": {},
   "outputs": [],
   "source": [
    "df = df.withColumn('id', F.col('id').cast(T.StringType()))\n"
   ]
  },
  {
   "cell_type": "code",
   "execution_count": 60,
   "metadata": {},
   "outputs": [
    {
     "data": {
      "text/plain": [
       "1000000"
      ]
     },
     "execution_count": 60,
     "metadata": {},
     "output_type": "execute_result"
    }
   ],
   "source": [
    "#df = df.repartition(12)\n",
    "df.count()"
   ]
  },
  {
   "cell_type": "code",
   "execution_count": 50,
   "metadata": {},
   "outputs": [
    {
     "name": "stdout",
     "output_type": "stream",
     "text": [
      "+---+-------+\n",
      "| id|max(id)|\n",
      "+---+-------+\n",
      "|  1|      1|\n",
      "|  2|      2|\n",
      "|  3|      3|\n",
      "|  4|      4|\n",
      "+---+-------+\n",
      "\n"
     ]
    }
   ],
   "source": [
    "df.groupBy('id').max('id').collect()"
   ]
  },
  {
   "cell_type": "code",
   "execution_count": null,
   "metadata": {},
   "outputs": [],
   "source": [
    "# Define the schema for each table\n",
    "users_schema = T.StructType([\n",
    "    T.StructField(\"user_id\", T.StringType(), True),\n",
    "    T.StructField(\"name\", T.StringType(), True)\n",
    "])\n",
    "\n",
    "addresses_schema = T.StructType([\n",
    "    T.StructField(\"user_id\", T.StringType(), True),\n",
    "    T.StructField(\"street\", T.StringType(), True),\n",
    "    T.StructField(\"city\", T.StringType(), True),\n",
    "    T.StructField(\"postal_code\", T.StringType(), True)\n",
    "])\n",
    "\n",
    "favorite_products_schema = T.StructType([\n",
    "    T.StructField(\"user_id\", T.StringType(), True),\n",
    "    T.StructField(\"product_id\", T.StringType(), True)\n",
    "])\n",
    "\n",
    "preferences_schema = T.StructType([\n",
    "    T.StructField(\"user_id\", T.StringType(), True),\n",
    "    T.StructField(\"key\", T.StringType(), True),\n",
    "    T.StructField(\"value\", T.StringType(), True)\n",
    "])\n",
    "\n",
    "extra_info_schema = T.StructType([\n",
    "    T.StructField(\"user_id\", T.StringType(), True),\n",
    "    T.StructField(\"field1\", T.StringType(), True),\n",
    "    T.StructField(\"field2\", T.StringType(), True)\n",
    "])\n",
    "\n",
    "additional_info_schema = T.StructType([\n",
    "    T.StructField(\"user_id\", T.StringType(), True),\n",
    "    T.StructField(\"field3\", T.StringType(), True),\n",
    "    T.StructField(\"field4\", T.StringType(), True)\n",
    "])\n",
    "\n",
    "# Define data for each table\n",
    "users_data = [\n",
    "    (\"U123\", \"John Doe\"),\n",
    "    (\"U124\", \"Jane Doe\"),\n",
    "    (\"U125\", \"Alice Smith\"),\n",
    "    (\"U126\", \"Bob Brown\")\n",
    "]\n",
    "\n",
    "addresses_data = [\n",
    "    (\"U123\", \"123 Elm St\", \"Somewhere\", \"12345\"),\n",
    "    (\"U123\", \"456 Oak St\", \"Anywhere\", \"67890\"),\n",
    "    (\"U124\", \"789 Pine St\", \"Somewhere\", \"12345\"),\n",
    "    (\"U125\", \"101 Maple St\", \"Elsewhere\", \"54321\"),\n",
    "    (\"U126\", \"202 Birch St\", \"Nowhere\", \"98765\")\n",
    "]\n",
    "\n",
    "favorite_products_data = [\n",
    "    (\"U123\", \"P001\"),\n",
    "    (\"U123\", \"P002\"),\n",
    "    (\"U123\", \"P003\"),\n",
    "    (\"U124\", \"P004\"),\n",
    "    (\"U124\", \"P005\"),\n",
    "    (\"U125\", \"P006\"),\n",
    "    (\"U126\", \"P007\"),\n",
    "    (\"U126\", \"P008\"),\n",
    "    (\"U126\", \"P009\"),\n",
    "    (\"U126\", \"P010\")\n",
    "]\n",
    "\n",
    "preferences_data = [\n",
    "    (\"U123\", \"newsletter\", \"subscribed\"),\n",
    "    (\"U123\", \"theme\", \"dark\"),\n",
    "    (\"U124\", \"newsletter\", \"unsubscribed\"),\n",
    "    (\"U124\", \"theme\", \"light\"),\n",
    "    (\"U124\", \"language\", \"en\"),\n",
    "    (\"U125\", \"theme\", \"dark\"),\n",
    "    (\"U126\", \"language\", \"fr\"),\n",
    "    (\"U126\", \"currency\", \"euro\"),\n",
    "    (\"U126\", \"newsletter\", \"subscribed\")\n",
    "]\n",
    "\n",
    "extra_info_data = [\n",
    "    (\"U123\", \"foo\", \"bar\"),\n",
    "    (\"U124\", \"baz\", \"qux\"),\n",
    "    (\"U125\", \"abc\", \"def\"),\n",
    "    (\"U126\", \"ghi\", \"jkl\")\n",
    "]\n",
    "\n",
    "additional_info_data = [\n",
    "    (\"U123\", \"foo1\", \"bar1\"),\n",
    "    (\"U124\", \"baz1\", \"qux1\"),\n",
    "    (\"U125\", \"abc1\", \"def1\"),\n",
    "    (\"U126\", \"ghi1\", \"jkl1\")\n",
    "]\n",
    "\n",
    "# Create DataFrames for each table\n",
    "users_df = spark.createDataFrame(users_data, schema=users_schema)\n",
    "addresses_df = spark.createDataFrame(addresses_data, schema=addresses_schema)\n",
    "favorite_products_df = spark.createDataFrame(favorite_products_data, schema=favorite_products_schema)\n",
    "preferences_df = spark.createDataFrame(preferences_data, schema=preferences_schema)\n",
    "extra_info_df = spark.createDataFrame(extra_info_data, schema=extra_info_schema)\n",
    "additional_info_df = spark.createDataFrame(additional_info_data, schema=additional_info_schema)\n",
    "\n",
    "# Show DataFrames\n",
    "print(\"Users Table:\")\n",
    "users_df.show()\n",
    "\n",
    "print(\"Addresses Table:\")\n",
    "addresses_df.show()\n",
    "\n",
    "print(\"Favorite Products Table:\")\n",
    "favorite_products_df.show()\n",
    "\n",
    "print(\"Preferences Table:\")\n",
    "preferences_df.show()\n",
    "\n",
    "print(\"Extra Info Table:\")\n",
    "extra_info_df.show()\n",
    "\n",
    "print(\"Additional Info Table:\")\n",
    "additional_info_df.show()"
   ]
  },
  {
   "cell_type": "code",
   "execution_count": 51,
   "metadata": {},
   "outputs": [],
   "source": [
    "spark.stop()"
   ]
  }
 ],
 "metadata": {
  "kernelspec": {
   "display_name": "Python 3",
   "language": "python",
   "name": "python3"
  },
  "language_info": {
   "codemirror_mode": {
    "name": "ipython",
    "version": 3
   },
   "file_extension": ".py",
   "mimetype": "text/x-python",
   "name": "python",
   "nbconvert_exporter": "python",
   "pygments_lexer": "ipython3",
   "version": "3.10.2"
  }
 },
 "nbformat": 4,
 "nbformat_minor": 2
}
