{
 "cells": [
  {
   "cell_type": "code",
   "execution_count": 1,
   "metadata": {},
   "outputs": [],
   "source": [
    "from pyspark.sql import SparkSession\n",
    "from pyspark.sql import functions as F\n",
    "from pyspark.sql import types as T\n",
    "from pyspark.sql import Row"
   ]
  },
  {
   "cell_type": "code",
   "execution_count": 2,
   "metadata": {},
   "outputs": [
    {
     "name": "stderr",
     "output_type": "stream",
     "text": [
      "SLF4J: Class path contains multiple SLF4J bindings.\n",
      "SLF4J: Found binding in [jar:file:/home/glue_user/spark/jars/log4j-slf4j-impl-2.17.2.jar!/org/slf4j/impl/StaticLoggerBinder.class]\n",
      "SLF4J: Found binding in [jar:file:/home/glue_user/spark/jars/slf4j-reload4j-1.7.36.jar!/org/slf4j/impl/StaticLoggerBinder.class]\n",
      "SLF4J: Found binding in [jar:file:/home/glue_user/aws-glue-libs/jars/log4j-slf4j-impl-2.17.2.jar!/org/slf4j/impl/StaticLoggerBinder.class]\n",
      "SLF4J: Found binding in [jar:file:/home/glue_user/aws-glue-libs/jars/slf4j-reload4j-1.7.36.jar!/org/slf4j/impl/StaticLoggerBinder.class]\n",
      "SLF4J: See http://www.slf4j.org/codes.html#multiple_bindings for an explanation.\n",
      "SLF4J: Actual binding is of type [org.apache.logging.slf4j.Log4jLoggerFactory]\n",
      "Setting default log level to \"WARN\".\n",
      "To adjust logging level use sc.setLogLevel(newLevel). For SparkR, use setLogLevel(newLevel).\n"
     ]
    }
   ],
   "source": [
    "spark = SparkSession.builder.getOrCreate()"
   ]
  },
  {
   "cell_type": "code",
   "execution_count": 16,
   "metadata": {},
   "outputs": [
    {
     "name": "stdout",
     "output_type": "stream",
     "text": [
      "+---+----+----------+\n",
      "| id|rndn|        dt|\n",
      "+---+----+----------+\n",
      "|  0| -17|      null|\n",
      "|  1|  -7|2023-06-01|\n",
      "|  2|  14|2025-03-01|\n",
      "|  3|  -4|2023-09-01|\n",
      "|  4|   2|2024-03-01|\n",
      "|  5| -10|2023-03-01|\n",
      "|  6|   1|2024-02-01|\n",
      "|  7|   6|2024-07-01|\n",
      "|  8|  -4|2023-09-01|\n",
      "|  9|  -8|2023-05-01|\n",
      "+---+----+----------+\n",
      "only showing top 10 rows\n",
      "\n"
     ]
    }
   ],
   "source": [
    "df = spark.range(100)\\\n",
    "    .withColumn('rndn', F.expr(\"cast(randn()*10 as integer)\"))\\\n",
    "    .withColumn('dt', F.expr(\"add_months(to_date('2024-01-01'), rndn)\"))\\\n",
    "    .withColumn('dt', F.expr(\"case when id in (0, 10, 75) then Null else dt end\"))\n",
    "df.show(10)"
   ]
  },
  {
   "cell_type": "code",
   "execution_count": 17,
   "metadata": {},
   "outputs": [
    {
     "name": "stdout",
     "output_type": "stream",
     "text": [
      "+----------+--------------------+--------------------+--------------------+\n",
      "|        dt|    collect_list(id)|  collect_list(rndn)|    collect_list(dt)|\n",
      "+----------+--------------------+--------------------+--------------------+\n",
      "|2023-01-01|        [16, 74, 83]|     [-12, -12, -12]|[2023-01-01, 2023...|\n",
      "|      null|         [0, 10, 75]|         [-17, 8, 3]|                  []|\n",
      "|2024-09-01|[24, 58, 88, 94, 97]|     [8, 8, 8, 8, 8]|[2024-09-01, 2024...|\n",
      "|2024-10-01|[20, 36, 49, 68, 99]|     [9, 9, 9, 9, 9]|[2024-10-01, 2024...|\n",
      "|2023-07-01|    [14, 27, 71, 92]|    [-6, -6, -6, -6]|[2023-07-01, 2023...|\n",
      "|2023-06-01|             [1, 13]|            [-7, -7]|[2023-06-01, 2023...|\n",
      "|2024-08-01|            [23, 42]|              [7, 7]|[2024-08-01, 2024...|\n",
      "|2022-04-01|                [22]|               [-21]|        [2022-04-01]|\n",
      "|2023-09-01|      [3, 8, 56, 87]|    [-4, -4, -4, -4]|[2023-09-01, 2023...|\n",
      "|2024-07-01| [7, 46, 50, 72, 76]|     [6, 6, 6, 6, 6]|[2024-07-01, 2024...|\n",
      "|2025-04-01|            [15, 37]|            [15, 15]|[2025-04-01, 2025...|\n",
      "|2022-11-01|                [11]|               [-14]|        [2022-11-01]|\n",
      "|2023-02-01|            [12, 52]|          [-11, -11]|[2023-02-01, 2023...|\n",
      "|2024-04-01|        [18, 21, 65]|           [3, 3, 3]|[2024-04-01, 2024...|\n",
      "|2023-05-01|             [9, 17]|            [-8, -8]|[2023-05-01, 2023...|\n",
      "|2025-03-01|                 [2]|                [14]|        [2025-03-01]|\n",
      "|2023-03-01| [5, 38, 59, 64, 91]|[-10, -10, -10, -...|[2023-03-01, 2023...|\n",
      "|2024-02-01|         [6, 63, 78]|           [1, 1, 1]|[2024-02-01, 2024...|\n",
      "|2024-03-01|         [4, 19, 62]|           [2, 2, 2]|[2024-03-01, 2024...|\n",
      "|2023-12-01|                [30]|                [-1]|        [2023-12-01]|\n",
      "+----------+--------------------+--------------------+--------------------+\n",
      "only showing top 20 rows\n",
      "\n"
     ]
    }
   ],
   "source": [
    "dfg = df.groupBy('dt').agg(*[F.expr(f'collect_list({cl})') for cl in df.columns])\n",
    "dfg.show()"
   ]
  },
  {
   "cell_type": "code",
   "execution_count": 114,
   "metadata": {},
   "outputs": [
    {
     "name": "stdout",
     "output_type": "stream",
     "text": [
      "root\n",
      " |-- id: long (nullable = false)\n",
      " |-- jsn: string (nullable = true)\n",
      "\n",
      "+---+------------------------------+\n",
      "|id |jsn                           |\n",
      "+---+------------------------------+\n",
      "|0  |{\"rndn\":-12}                  |\n",
      "|1  |{\"rndn\":14,\"dt\":\"2025-03-01\"} |\n",
      "|2  |{\"rndn\":-6,\"dt\":\"2023-07-01\"} |\n",
      "|3  |{\"rndn\":-5,\"dt\":\"2023-08-01\"} |\n",
      "|4  |{\"rndn\":29,\"dt\":\"2026-06-01\"} |\n",
      "|5  |{\"rndn\":0,\"dt\":\"2024-01-01\"}  |\n",
      "|6  |{\"rndn\":-2,\"dt\":\"2023-11-01\"} |\n",
      "|7  |{\"rndn\":4,\"dt\":\"2024-05-01\"}  |\n",
      "|8  |{\"rndn\":-6,\"dt\":\"2023-07-01\"} |\n",
      "|9  |{\"rndn\":0,\"dt\":\"2024-01-01\"}  |\n",
      "|10 |{\"rndn\":-25}                  |\n",
      "|11 |{\"rndn\":-12,\"dt\":\"2023-01-01\"}|\n",
      "|12 |{\"rndn\":0,\"dt\":\"2024-01-01\"}  |\n",
      "|13 |{\"rndn\":-11,\"dt\":\"2023-02-01\"}|\n",
      "|14 |{\"rndn\":0,\"dt\":\"2024-01-01\"}  |\n",
      "|15 |{\"rndn\":7,\"dt\":\"2024-08-01\"}  |\n",
      "|16 |{\"rndn\":0,\"dt\":\"2024-01-01\"}  |\n",
      "|17 |{\"rndn\":1,\"dt\":\"2024-02-01\"}  |\n",
      "|18 |{\"rndn\":-5,\"dt\":\"2023-08-01\"} |\n",
      "|19 |{\"rndn\":6,\"dt\":\"2024-07-01\"}  |\n",
      "+---+------------------------------+\n",
      "only showing top 20 rows\n",
      "\n"
     ]
    }
   ],
   "source": [
    "df = df.withColumn('jsn', F.expr(\"struct(*)\").dropFields('id'))\\\n",
    "       .withColumn('jsn', F.expr(\"to_json(jsn)\")).select('id', 'jsn')\n",
    "\n",
    "df.printSchema()\n",
    "df.show(truncate=False)"
   ]
  },
  {
   "cell_type": "code",
   "execution_count": 127,
   "metadata": {},
   "outputs": [],
   "source": [
    "spark.stop()"
   ]
  }
 ],
 "metadata": {
  "kernelspec": {
   "display_name": "Python 3",
   "language": "python",
   "name": "python3"
  },
  "language_info": {
   "codemirror_mode": {
    "name": "ipython",
    "version": 3
   },
   "file_extension": ".py",
   "mimetype": "text/x-python",
   "name": "python",
   "nbconvert_exporter": "python",
   "pygments_lexer": "ipython3",
   "version": "3.10.2"
  }
 },
 "nbformat": 4,
 "nbformat_minor": 2
}
